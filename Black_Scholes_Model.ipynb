{
 "cells": [
  {
   "cell_type": "code",
   "execution_count": 5,
   "metadata": {},
   "outputs": [
    {
     "name": "stdout",
     "output_type": "stream",
     "text": [
      "Call Option Price: $ 10.45\n",
      "Put Option Price: $ 5.57\n"
     ]
    }
   ],
   "source": [
    "import numpy as np\n",
    "import scipy.stats as si\n",
    "import pandas as pd\n",
    "import matplotlib.pyplot as plt\n",
    "\n",
    "def black_scholes_call(S, K, T, r, sigma):\n",
    "    d1 = (np.log(S/K) + (r + 0.5*sigma**2)*T) / (sigma * np.sqrt(T))\n",
    "    d2 = d1 - sigma * np.sqrt(T)\n",
    "    call_price = S * si.norm.cdf(d1) - K * np.exp(-r * T) * si.norm.cdf(d2)\n",
    "    return call_price\n",
    "\n",
    "def black_scholes_put(S, K, T, r, sigma):\n",
    "    d1 = (np.log(S/K) + (r + 0.5*sigma**2)*T) / (sigma * np.sqrt(T))\n",
    "    d2 = d1 - sigma * np.sqrt(T)\n",
    "    put_price = K * np.exp(-r * T) * si.norm.cdf(-d2) - S * si.norm.cdf(-d1)\n",
    "    return put_price\n",
    "\n",
    "# Define parameters\n",
    "S = 100 # Current stock price\n",
    "K = 100 # Strike price\n",
    "T = 1 # Time to maturity (in years)\n",
    "r = 0.05 # Risk-free interest rate\n",
    "sigma = 0.2 # Volatility\n",
    "\n",
    "# Calculate call and put option prices\n",
    "call_price = black_scholes_call(S, K, T, r, sigma)\n",
    "put_price = black_scholes_put(S, K, T, r, sigma)\n",
    "\n",
    "# Output results\n",
    "print(\"Call Option Price: $\", round(call_price, 2))\n",
    "print(\"Put Option Price: $\", round(put_price, 2))\n"
   ]
  }
 ],
 "metadata": {
  "kernelspec": {
   "display_name": "base",
   "language": "python",
   "name": "python3"
  },
  "language_info": {
   "codemirror_mode": {
    "name": "ipython",
    "version": 3
   },
   "file_extension": ".py",
   "mimetype": "text/x-python",
   "name": "python",
   "nbconvert_exporter": "python",
   "pygments_lexer": "ipython3",
   "version": "3.9.13"
  },
  "orig_nbformat": 4,
  "vscode": {
   "interpreter": {
    "hash": "18333b1c519fbf4046606a0fbddbc83ab061f03df64e05dab5f4c003bffa45ca"
   }
  }
 },
 "nbformat": 4,
 "nbformat_minor": 2
}
